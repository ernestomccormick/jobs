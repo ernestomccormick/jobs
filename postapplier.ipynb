{
 "cells": [
  {
   "cell_type": "markdown",
   "metadata": {},
   "source": [
    "## Promt\n",
    "I want to create a semiautomatic Job Post application.\n",
    "Using Deepseek API write apyton code to in a jupyter notebook to:\n",
    "\n",
    "- Load job posts: written in .txt files available on folder \"posts\"\n",
    "- Generate questions for key words: like “You are an expert in crafting resumes optimized to make resumes stand out when being reviewed by applicant tracking systems. Attached is the job description to which I’m applying, and my most recent resume. First, highlight keywords present in the job description that are lacking in my resume. Then, note which keywords may be the most difficult to incorporate into a rewrite of my current resume bullets. Finally, ask me any questions about my career experience to help you be able to incorporate those additional keywords (as I will eventually have you rewrite my resume).”\n",
    "- Question answering: Use Deepseek to generate possible answers\n",
    "- Generation of general CV: Using Deepseek and previous answers, after manual improvement\n",
    "- Generation of Individual CVs and cover letters: Base on general CV and job posts.  CV should be easy to scrape by Indeed and Careerbeacon (think in format of job experience to differentiate title of the job, location, start month, start year, end month or end year, including present.  Make easy to parse in education Name of University, Type of title, year start, year end, description of the education)\n",
    "\n",
    "Example code of Deepseek API:\n",
    "\n",
    "from openai import OpenAI\n",
    "\n",
    "client = OpenAI(api_key=\"<DeepSeek API Key>\", base_url=\"https://api.deepseek.com\")\n",
    "\n",
    "response = client.chat.completions.create(\n",
    "    model=\"deepseek-chat\",\n",
    "    messages=[\n",
    "        {\"role\": \"system\", \"content\": \"You are a helpful assistant\"},\n",
    "        {\"role\": \"user\", \"content\": \"Hello\"},\n",
    "    ],\n",
    "    stream=False\n",
    ")\n",
    "\n",
    "print(response.choices[0].message.content)"
   ]
  },
  {
   "cell_type": "code",
   "execution_count": 1,
   "metadata": {},
   "outputs": [],
   "source": [
    "import os\n",
    "import datetime\n",
    "from openai import OpenAI  # Deepseek API example uses openai's interface.\n",
    "from docx import Document  # For writing DOCX files\n",
    "from credentials import APIKEY\n",
    "\n",
    "# Initialize Deepseek API client\n",
    "client = OpenAI(api_key=APIKEY, base_url=\"https://api.deepseek.com\")\n",
    "\n",
    "def call_deepseek(prompt):\n",
    "    \"\"\"\n",
    "    Calls the Deepseek API with the provided prompt and returns the response text.\n",
    "    \"\"\"\n",
    "    response = client.chat.completions.create(\n",
    "        model=\"deepseek-reasoner\",\n",
    "        messages=[\n",
    "            {\"role\": \"system\", \"content\": \"You are a helpful expert in crafting resumes optimized to make resumes stand out when being reviewed by applicant tracking systems.\"},\n",
    "            {\"role\": \"user\", \"content\": prompt},\n",
    "        ],\n",
    "        stream=False\n",
    "    )\n",
    "    return response.choices[0].message.content\n"
   ]
  },
  {
   "cell_type": "code",
   "execution_count": 2,
   "metadata": {},
   "outputs": [
    {
     "name": "stdout",
     "output_type": "stream",
     "text": [
      "Loaded 6 job post(s).\n"
     ]
    }
   ],
   "source": [
    "# STEP 1: Load job posts\n",
    "\n",
    "posts_folder = \"posts\"\n",
    "job_posts = {}\n",
    "\n",
    "# Loop through each .txt file in the posts folder.\n",
    "for filename in os.listdir(posts_folder):\n",
    "    if filename.endswith(\".txt\"):\n",
    "        file_path = os.path.join(posts_folder, filename)\n",
    "        with open(file_path, \"r\", encoding=\"utf-8\") as f:\n",
    "            job_posts[filename] = f.read()\n",
    "print(f\"Loaded {len(job_posts)} job post(s).\")\n"
   ]
  },
  {
   "cell_type": "code",
   "execution_count": 3,
   "metadata": {},
   "outputs": [],
   "source": [
    "# --------------------------\n",
    "# STEP 2: Generate Q&A for keywords for each job post, taking into account the general resume\n",
    "# --------------------------\n",
    "\n",
    "\n",
    "questions_folder = \"questions\"\n",
    "os.makedirs(questions_folder, exist_ok=True)\n",
    "\n",
    "# Load the general resume to include in the prompt\n",
    "with open(\"gen_resume.txt\", \"r\", encoding=\"utf-8\") as f:\n",
    "    general_resume = f.read()\n"
   ]
  },
  {
   "cell_type": "code",
   "execution_count": null,
   "metadata": {},
   "outputs": [
    {
     "name": "stdout",
     "output_type": "stream",
     "text": [
      "Generated Q&A for project_manager_Nanoptix.txt and saved to questions/project_manager_Nanoptix_qa.txt\n",
      "Generated Q&A for Senior_Plant_Accountant_IrvingTissue.txt and saved to questions/Senior_Plant_Accountant_IrvingTissue_qa.txt\n",
      "Generated Q&A for Regulatory_Advisor_NBEnergyUtilitiesBoard.txt and saved to questions/Regulatory_Advisor_NBEnergyUtilitiesBoard_qa.txt\n",
      "Generated Q&A for Planning_Business_Partner_ WorkSafeNB.txt and saved to questions/Planning_Business_Partner_ WorkSafeNB_qa.txt\n",
      "Generated Q&A for Plant_Cost_Accountant_Irving_Personal_Care.txt and saved to questions/Plant_Cost_Accountant_Irving_Personal_Care_qa.txt\n"
     ]
    }
   ],
   "source": [
    "\n",
    "# Modified prompt template that includes the general resume context\n",
    "qa_prompt_template = (\n",
    "    \"You are an expert in crafting resumes optimized to make resumes stand out when being reviewed by applicant tracking systems. \"\n",
    "    \"Below is my current general resume:\\n\\n{general_resume}\\n\\n\"\n",
    "    \"Now, attached is the job description:\\n\\n{job_post}\\n\\n\"\n",
    "    \"Based on both, generate questions about key words present in the job description that might be lacking in my resume. \"\n",
    "    \"Also, note which keywords may be the most difficult to incorporate into a rewrite of my current resume bullets, \"\n",
    "    \"and then ask any clarifying questions about my career experience to help incorporate those additional keywords. At the end of each question write a possible correct answer.\"\n",
    ")\n",
    "\n",
    "# Iterate over each job post and generate its Q&A file.\n",
    "for filename, job_text in job_posts.items():\n",
    "    qa_prompt = qa_prompt_template.format(general_resume=general_resume, job_post=job_text)\n",
    "    qa_response = call_deepseek(qa_prompt)\n",
    "    \n",
    "    # Save the Q&A to a file in the questions folder, naming it with _qa suffix.\n",
    "    qa_filename = os.path.join(questions_folder, os.path.splitext(filename)[0] + \"_qa.txt\")\n",
    "    with open(qa_filename, \"w\", encoding=\"utf-8\") as f:\n",
    "        f.write(qa_response)\n",
    "    print(f\"Generated Q&A for {filename} and saved to {qa_filename}\")\n"
   ]
  },
  {
   "cell_type": "code",
   "execution_count": null,
   "metadata": {},
   "outputs": [],
   "source": [
    "# STEP 3: Wait for manual review/modification of Q&A files\n",
    "\n",
    "input(\"Please review and modify the Q&A files in the 'questions' folder as needed. Then press Enter to continue...\")\n"
   ]
  },
  {
   "cell_type": "code",
   "execution_count": 4,
   "metadata": {},
   "outputs": [],
   "source": [
    "# STEP 4: Generate a general CV by rewriting and augmenting gen_resume.txt\n",
    "\n",
    "# Read the current general resume\n",
    "with open(\"gen_resume.txt\", \"r\", encoding=\"utf-8\") as f:\n",
    "    general_resume = f.read()\n",
    "\n",
    "# # Create a prompt to have Deepseek rewrite and augment the general resume.\n",
    "# cv_prompt = (\n",
    "#     \"Please rewrite and augment the following general resume to make it more effective and modern:\\n\\n\"\n",
    "#     f\"{general_resume}\"\n",
    "# )\n",
    "# new_cv = call_deepseek(cv_prompt)\n",
    "\n",
    "# # Save the updated general resume back to file.\n",
    "# with open(\"gen_resume.txt\", \"w\", encoding=\"utf-8\") as f:\n",
    "#     f.write(new_cv)\n",
    "# print(\"General resume has been updated and saved to gen_resume.txt.\")\n"
   ]
  },
  {
   "cell_type": "code",
   "execution_count": null,
   "metadata": {},
   "outputs": [
    {
     "name": "stdout",
     "output_type": "stream",
     "text": [
      "Generated CV: Technical_Product Manager_Data_Analytics_Platform_ASURION_CV_20Mar2025.docx and Cover Letter: Technical_Product Manager_Data_Analytics_Platform_ASURION_CL_20Mar2025.docx\n",
      "Generated CV: Business_Analyst_JDIIT_CV_20Mar2025.docx and Cover Letter: Business_Analyst_JDIIT_CL_20Mar2025.docx\n",
      "Generated CV: Project_Manager_CMDSS_CV_20Mar2025.docx and Cover Letter: Project_Manager_CMDSS_CL_20Mar2025.docx\n",
      "Generated CV: Business_Analyst_MEDAVIE_CV_20Mar2025.docx and Cover Letter: Business_Analyst_MEDAVIE_CL_20Mar2025.docx\n",
      "Generated CV: Manager_Data_&_Analytics_360I_CV_20Mar2025.docx and Cover Letter: Manager_Data_&_Analytics_360I_CL_20Mar2025.docx\n",
      "Generated CV: Pricing_Analyst_IOIL_CV_20Mar2025.docx and Cover Letter: Pricing_Analyst_IOIL_CL_20Mar2025.docx\n",
      "Generated CV: Analyst_Pricing_Performance_SYSCO_CV_20Mar2025.docx and Cover Letter: Analyst_Pricing_Performance_SYSCO_CL_20Mar2025.docx\n",
      "Generated CV: Lead_Business_Analyst_IOIL_CV_20Mar2025.docx and Cover Letter: Lead_Business_Analyst_IOIL_CL_20Mar2025.docx\n",
      "Generated CV: Business_Operations_Analyst_IMPMAN_CV_20Mar2025.docx and Cover Letter: Business_Operations_Analyst_IMPMAN_CL_20Mar2025.docx\n",
      "Generated CV: Pricing_Analyst_MIDL_CV_20Mar2025.docx and Cover Letter: Pricing_Analyst_MIDL_CL_20Mar2025.docx\n",
      "Generated CV: Senior_Business_Analyst_Mariner_CV_20Mar2025.docx and Cover Letter: Senior_Business_Analyst_Mariner_CL_20Mar2025.docx\n",
      "Generated CV: IT_Project_Manager_FTCG_CV_20Mar2025.docx and Cover Letter: IT_Project_Manager_FTCG_CL_20Mar2025.docx\n"
     ]
    }
   ],
   "source": [
    "\n",
    "# STEP 5: Generate Individual CVs and Cover Letters (DOCX)\n",
    "\n",
    "# Get current date string (e.g., '12Mar2025')\n",
    "date_str = datetime.datetime.now().strftime(\"%d%b%Y\")\n",
    "\n",
    "# Loop over each job post to generate individual CV and cover letter.\n",
    "for filename, job_text in job_posts.items():\n",
    "    qa_filename = os.path.join(questions_folder, os.path.splitext(filename)[0] + \"_qa.txt\")\n",
    "    \n",
    "    # Read the corresponding Q&A file.\n",
    "    with open(qa_filename, \"r\", encoding=\"utf-8\") as f:\n",
    "        qa_content = f.read()\n",
    "    \n",
    "    # Create a prompt that includes the general resume, job description, and Q&A responses.\n",
    "    individual_prompt = (\n",
    "        \"Using the following general resume, job description, and the Q&A responses, re-write the contents of my resume seamlessly incorporating the important keywords you originally highlighted into my bullet points accompanied by strong action verbs.\\n\\n\"\n",
    "        \"Give more space to the information that matters for the recruiter to make it look like almost every professional experience has lead me to this job, without lying. Assure my bullet points are no more than 2 lines (but ideally one line each) and that the final resume is optimized for the job description.\\n\\n\"\n",
    "        \"General Resume:\\n\"\n",
    "        f\"{general_resume}\\n\\n\"\n",
    "        \"Job Description:\\n\"\n",
    "        f\"{job_text}\\n\\n\"\n",
    "        \"Q&A Responses:\\n\"\n",
    "        f\"{qa_content}\\n\\n\"\n",
    "        \"CV should be easy to scrape by Indeed and Careerbeacon\"\n",
    "        \"The CV should be formatted so that job experience details (job title, location, start month/year, end month/year or 'present') \"\n",
    "        \"and education details (University Name, Degree, start year, end year, and description) are clearly separated. \"\n",
    "        \"Provide the CV and cover letter as separate outputs, with markers like 'CV:' and 'Cover Letter:'.\"\n",
    "    )\n",
    "    \n",
    "    individual_response = call_deepseek(individual_prompt)\n",
    "    \n",
    "    # Assume the response contains \"CV:\" and \"Cover Letter:\" markers.\n",
    "    try:\n",
    "        cv_text, cl_text = individual_response.split(\"Cover Letter:\", 1)\n",
    "        cv_text = cv_text.replace(\"CV:\", \"\").strip()\n",
    "        cl_text = cl_text.strip()\n",
    "    except Exception as e:\n",
    "        # Fallback: use the full response for both if splitting fails.\n",
    "        cv_text = individual_response\n",
    "        cl_text = individual_response\n",
    "\n",
    "    # Remove '#' and '*' symbols from the responses.\n",
    "    cv_text = cv_text.replace(\"#\", \"\").replace(\"*\", \"\").replace(\"---\",\"\")\n",
    "    cl_text = cl_text.replace(\"#\", \"\").replace(\"*\", \"\").replace(\"---\",\"\")\n",
    "    \n",
    "    # Create a DOCX file for the CV.\n",
    "    cv_doc = Document()\n",
    "    cv_doc.add_paragraph(cv_text)\n",
    "    cv_doc_filename = f\"{os.path.splitext(filename)[0]}_CV_{date_str}.docx\"\n",
    "    cv_doc.save(cv_doc_filename)\n",
    "    \n",
    "    # Create a DOCX file for the Cover Letter.\n",
    "    cl_doc = Document()\n",
    "    cl_doc.add_paragraph(cl_text)\n",
    "    cl_doc_filename = f\"{os.path.splitext(filename)[0]}_CL_{date_str}.docx\"\n",
    "    cl_doc.save(cl_doc_filename)\n",
    "    \n",
    "    print(f\"Generated CV: {cv_doc_filename} and Cover Letter: {cl_doc_filename}\")"
   ]
  },
  {
   "cell_type": "code",
   "execution_count": 6,
   "metadata": {},
   "outputs": [],
   "source": [
    "import os\n",
    "\n",
    "# Define the folder path\n",
    "input_folder = 'questions'\n",
    "output_file = '1.txt'\n",
    "\n",
    "# Open the output file in write mode\n",
    "with open(output_file, 'w', encoding='utf-8') as outfile:\n",
    "    # Loop through each file in the folder\n",
    "    for filename in os.listdir(input_folder):\n",
    "        file_path = os.path.join(input_folder, filename)\n",
    "\n",
    "        # Only process files (ignore directories)\n",
    "        if os.path.isfile(file_path):\n",
    "            with open(file_path, 'r', encoding='utf-8') as infile:\n",
    "                content = infile.read()\n",
    "                outfile.write(f'--- {filename} ---\\n')  # Optional: mark which file the content came from\n",
    "                outfile.write(content + '\\n\\n')"
   ]
  }
 ],
 "metadata": {
  "kernelspec": {
   "display_name": "soft",
   "language": "python",
   "name": "python3"
  },
  "language_info": {
   "codemirror_mode": {
    "name": "ipython",
    "version": 3
   },
   "file_extension": ".py",
   "mimetype": "text/x-python",
   "name": "python",
   "nbconvert_exporter": "python",
   "pygments_lexer": "ipython3",
   "version": "3.12.9"
  }
 },
 "nbformat": 4,
 "nbformat_minor": 2
}
